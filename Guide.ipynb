{
 "cells": [
  {
   "cell_type": "markdown",
   "metadata": {
    "editable": false,
    "ulab": {
     "buttons": {
      "ulab-button-e098123f": {
       "bashCommand": "",
       "filesToOpen": [],
       "isPreviewButton": false,
       "runInBackground": false,
       "style": "primary",
       "text": "TODO",
       "toggleOffText": "HIDE SOLUTION",
       "toggleOnText": "SHOW SOLUTION"
      }
     }
    }
   },
   "source": [
    "# Migrations Exercise\n",
    "\n",
    "## Getting Started\n",
    "\n",
    "This repo contains a basic Node and Express app to get you started in constructing an API.\n",
    "\n",
    "#### Workspace\n",
    "This exercise can be done inside of this Udacity workspace. To ready your environment follow these steps:\n",
    "\n",
    "##### In a terminal tab, create and run the database:\n",
    "- switch to the postgres user `su postgres` \n",
    "- start psql `psql postgres`\n",
    "- in psql run the following:\n",
    "  - `CREATE USER full_stack_user WITH PASSWORD 'password123';`\n",
    "  - `CREATE DATABASE full_stack_dev;`\n",
    "  - `\\c full_stack_dev`\n",
    "  - `GRANT ALL PRIVILEGES ON DATABASE full_stack_dev TO full_stack_user;`\n",
    "- to test that it is working run `\\dt` and it should output \"No relations found.\"\n",
    "\n",
    "##### In the 2nd terminal:\n",
    "- install yarn `npm install yarn -g`\n",
    "- install db-migrate on the machine for terminal commands `npm install db-migrate -g`\n",
    "- check node version `node -v` - it needs to be 10 or 12 level\n",
    "- *IF node was not 10 or 12 level, run* \n",
    "  - `npm install -g n`\n",
    "  - `n 10.18.0`\n",
    "  - `PATH=\"$PATH\"`\n",
    "  - `node -v` to check that the version is 10 or 12\n",
    "- install all project dependencies `yarn`\n",
    "- to test that it is working, run `yarn watch` should show an app starting on `0.0.0.0:3000`"
   ]
  },
  {
   "cell_type": "markdown",
   "metadata": {
    "editable": false
   },
   "source": [
    "#### Local Environment\n",
    "If want to do this exercise on your local computer and you already have docker installed, there is a docker file provided for you with generic content. Note that you may need to update this file to fit your computer in order to use it locally. \n",
    "\n"
   ]
  },
  {
   "cell_type": "markdown",
   "metadata": {
    "editable": false
   },
   "source": [
    "<!--\n",
    "%%ulab_page_divider\n",
    "--><hr/>"
   ]
  },
  {
   "cell_type": "markdown",
   "metadata": {
    "editable": false
   },
   "source": []
  },
  {
   "cell_type": "markdown",
   "metadata": {
    "editable": false
   },
   "source": [
    "<!--\n",
    "%%ulab_page_divider\n",
    "--><hr/>"
   ]
  },
  {
   "cell_type": "markdown",
   "metadata": {
    "editable": false,
    "ulab": {
     "buttons": {
      "ulab-button-50644438": {
       "bashCommand": "",
       "filesToOpen": [],
       "isPreviewButton": false,
       "runInBackground": false,
       "text": "RIGHT CLICK ME"
      }
     }
    }
   },
   "source": []
  },
  {
   "cell_type": "markdown",
   "metadata": {
    "editable": false
   },
   "source": [
    "<!--\n",
    "%%ulab_page_divider\n",
    "--><hr/>"
   ]
  },
  {
   "cell_type": "markdown",
   "metadata": {
    "editable": false
   },
   "source": []
  },
  {
   "cell_type": "markdown",
   "metadata": {
    "editable": false
   },
   "source": [
    "<!--\n",
    "%%ulab_page_divider\n",
    "--><hr/>"
   ]
  },
  {
   "cell_type": "markdown",
   "metadata": {
    "editable": false,
    "ulab": {
     "buttons": {
      "ulab-button-b9256531": {
       "bashCommand": "",
       "filesToOpen": [],
       "isPreviewButton": false,
       "runInBackground": false,
       "text": "RIGHT CLICK ME"
      }
     }
    }
   },
   "source": []
  },
  {
   "cell_type": "markdown",
   "metadata": {
    "editable": false
   },
   "source": [
    "<!--\n",
    "%%ulab_page_divider\n",
    "--><hr/>"
   ]
  },
  {
   "cell_type": "markdown",
   "metadata": {
    "editable": false
   },
   "source": []
  },
  {
   "cell_type": "markdown",
   "metadata": {
    "editable": false
   },
   "source": [
    "<!--\n",
    "%%ulab_page_divider\n",
    "--><hr/>"
   ]
  },
  {
   "cell_type": "markdown",
   "metadata": {
    "editable": false
   },
   "source": []
  }
 ],
 "metadata": {
  "kernelspec": {
   "display_name": "Python 3",
   "language": "python",
   "name": "python3"
  },
  "language_info": {
   "codemirror_mode": {
    "name": "ipython",
    "version": 3
   },
   "file_extension": ".py",
   "mimetype": "text/x-python",
   "name": "python",
   "nbconvert_exporter": "python",
   "pygments_lexer": "ipython3",
   "version": "3.6.3"
  },
  "ulab_nb_type": "guided"
 },
 "nbformat": 4,
 "nbformat_minor": 4
}
